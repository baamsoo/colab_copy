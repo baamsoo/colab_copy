{
  "nbformat": 4,
  "nbformat_minor": 0,
  "metadata": {
    "colab": {
      "provenance": [],
      "include_colab_link": true
    },
    "kernelspec": {
      "name": "python3",
      "display_name": "Python 3"
    },
    "language_info": {
      "name": "python"
    }
  },
  "cells": [
    {
      "cell_type": "markdown",
      "metadata": {
        "id": "view-in-github",
        "colab_type": "text"
      },
      "source": [
        "<a href=\"https://colab.research.google.com/github/baamsoo/colab_copy/blob/main/230620_numpy_01_%EB%B3%B5%EC%8A%B5.ipynb\" target=\"_parent\"><img src=\"https://colab.research.google.com/assets/colab-badge.svg\" alt=\"Open In Colab\"/></a>"
      ]
    },
    {
      "cell_type": "markdown",
      "source": [
        "# numpy 기초"
      ],
      "metadata": {
        "id": "DBT75Jguaz_J"
      }
    },
    {
      "cell_type": "code",
      "execution_count": null,
      "metadata": {
        "id": "MHafInt3LzZC"
      },
      "outputs": [],
      "source": [
        "# pip install numpy\n",
        "import numpy as np"
      ]
    },
    {
      "cell_type": "code",
      "source": [
        "#@title 1차원 배열\n",
        "np.array([1, 2, 3])"
      ],
      "metadata": {
        "colab": {
          "base_uri": "https://localhost:8080/"
        },
        "id": "9ZqA21vfU7zF",
        "outputId": "682dbd73-a025-4690-d4a4-3a8c2bc8e933"
      },
      "execution_count": null,
      "outputs": [
        {
          "output_type": "execute_result",
          "data": {
            "text/plain": [
              "array([1, 2, 3])"
            ]
          },
          "metadata": {},
          "execution_count": 2
        }
      ]
    },
    {
      "cell_type": "code",
      "source": [
        "np.array(range(3))"
      ],
      "metadata": {
        "colab": {
          "base_uri": "https://localhost:8080/"
        },
        "id": "IXlxB9CsVKLr",
        "outputId": "9f98eb0d-8a21-48f8-eb2b-3b7583bf5e8a"
      },
      "execution_count": null,
      "outputs": [
        {
          "output_type": "execute_result",
          "data": {
            "text/plain": [
              "array([0, 1, 2])"
            ]
          },
          "metadata": {},
          "execution_count": 3
        }
      ]
    },
    {
      "cell_type": "code",
      "source": [
        "np.arange(3)"
      ],
      "metadata": {
        "colab": {
          "base_uri": "https://localhost:8080/"
        },
        "id": "NEnXDPUCVM_z",
        "outputId": "33f764f4-1ea6-48b9-f582-9bc7467f6976"
      },
      "execution_count": null,
      "outputs": [
        {
          "output_type": "execute_result",
          "data": {
            "text/plain": [
              "array([0, 1, 2])"
            ]
          },
          "metadata": {},
          "execution_count": 4
        }
      ]
    },
    {
      "cell_type": "code",
      "source": [
        "#@title 벡터화 연산\n",
        "a = np.arange(10)\n",
        "a"
      ],
      "metadata": {
        "colab": {
          "base_uri": "https://localhost:8080/"
        },
        "id": "jGHLeH1TVPfj",
        "outputId": "4b084718-662e-41fa-998f-9ea289acc7e4"
      },
      "execution_count": null,
      "outputs": [
        {
          "output_type": "execute_result",
          "data": {
            "text/plain": [
              "array([0, 1, 2, 3, 4, 5, 6, 7, 8, 9])"
            ]
          },
          "metadata": {},
          "execution_count": 5
        }
      ]
    },
    {
      "cell_type": "code",
      "source": [
        "a + 5"
      ],
      "metadata": {
        "colab": {
          "base_uri": "https://localhost:8080/"
        },
        "id": "NnoF4GAyVhis",
        "outputId": "2183a68c-919e-4cbb-eeb7-16fe4d9ae97c"
      },
      "execution_count": null,
      "outputs": [
        {
          "output_type": "execute_result",
          "data": {
            "text/plain": [
              "array([ 5,  6,  7,  8,  9, 10, 11, 12, 13, 14])"
            ]
          },
          "metadata": {},
          "execution_count": 6
        }
      ]
    },
    {
      "cell_type": "code",
      "source": [
        "a - 2"
      ],
      "metadata": {
        "colab": {
          "base_uri": "https://localhost:8080/"
        },
        "id": "BUcjhsdMVjGc",
        "outputId": "f787c783-4295-41aa-b045-320528f2ae16"
      },
      "execution_count": null,
      "outputs": [
        {
          "output_type": "execute_result",
          "data": {
            "text/plain": [
              "array([-2, -1,  0,  1,  2,  3,  4,  5,  6,  7])"
            ]
          },
          "metadata": {},
          "execution_count": 7
        }
      ]
    },
    {
      "cell_type": "code",
      "source": [
        "a % 7"
      ],
      "metadata": {
        "colab": {
          "base_uri": "https://localhost:8080/"
        },
        "id": "prja5ouQVj8j",
        "outputId": "a26cd520-52f7-49ba-c372-3820e000a5d4"
      },
      "execution_count": null,
      "outputs": [
        {
          "output_type": "execute_result",
          "data": {
            "text/plain": [
              "array([0, 1, 2, 3, 4, 5, 6, 0, 1, 2])"
            ]
          },
          "metadata": {},
          "execution_count": 8
        }
      ]
    },
    {
      "cell_type": "code",
      "source": [
        "a > 5"
      ],
      "metadata": {
        "colab": {
          "base_uri": "https://localhost:8080/"
        },
        "id": "Gf_aMFrDVlW1",
        "outputId": "12e199f0-d269-4d31-a0ab-bb34bc32424e"
      },
      "execution_count": null,
      "outputs": [
        {
          "output_type": "execute_result",
          "data": {
            "text/plain": [
              "array([False, False, False, False, False, False,  True,  True,  True,\n",
              "        True])"
            ]
          },
          "metadata": {},
          "execution_count": 10
        }
      ]
    },
    {
      "cell_type": "code",
      "source": [
        "(a > 5) & (a < 7)"
      ],
      "metadata": {
        "colab": {
          "base_uri": "https://localhost:8080/"
        },
        "id": "MjJUxxfRVy4V",
        "outputId": "2bfd3004-299f-450c-b2fa-f17186e08634"
      },
      "execution_count": null,
      "outputs": [
        {
          "output_type": "execute_result",
          "data": {
            "text/plain": [
              "array([False, False, False, False, False, False,  True, False, False,\n",
              "       False])"
            ]
          },
          "metadata": {},
          "execution_count": 13
        }
      ]
    },
    {
      "cell_type": "code",
      "source": [
        "#@title 2차원 배열\n",
        "arr = np.array([[0, 1, 2], [3, 4, 5]])\n",
        "arr"
      ],
      "metadata": {
        "colab": {
          "base_uri": "https://localhost:8080/"
        },
        "id": "viy-eQjCV4_s",
        "outputId": "ec0178a0-becc-4eb1-fc8f-51e049f9401f"
      },
      "execution_count": null,
      "outputs": [
        {
          "output_type": "execute_result",
          "data": {
            "text/plain": [
              "array([[0, 1, 2],\n",
              "       [3, 4, 5]])"
            ]
          },
          "metadata": {},
          "execution_count": 14
        }
      ]
    },
    {
      "cell_type": "code",
      "source": [
        "arr = np.arange(6).reshape(2, -1)\n",
        "arr"
      ],
      "metadata": {
        "colab": {
          "base_uri": "https://localhost:8080/"
        },
        "id": "KMD71ouuWHFL",
        "outputId": "afe35c9b-60d6-437a-95cd-9569e7564382"
      },
      "execution_count": null,
      "outputs": [
        {
          "output_type": "execute_result",
          "data": {
            "text/plain": [
              "array([[0, 1, 2],\n",
              "       [3, 4, 5]])"
            ]
          },
          "metadata": {},
          "execution_count": 15
        }
      ]
    },
    {
      "cell_type": "code",
      "source": [
        "arr, arr.ndim, arr.shape"
      ],
      "metadata": {
        "colab": {
          "base_uri": "https://localhost:8080/"
        },
        "id": "RyrQkiCaWMNz",
        "outputId": "50ec0620-1b77-4493-b307-3d20ad6cdd91"
      },
      "execution_count": null,
      "outputs": [
        {
          "output_type": "execute_result",
          "data": {
            "text/plain": [
              "(array([[0, 1, 2],\n",
              "        [3, 4, 5]]),\n",
              " 2,\n",
              " (2, 3))"
            ]
          },
          "metadata": {},
          "execution_count": 16
        }
      ]
    },
    {
      "cell_type": "code",
      "source": [
        "#@title 3차원배열\n",
        "t = np.arange(24).reshape(2, 3, -1)\n",
        "t, t.ndim, t.shape"
      ],
      "metadata": {
        "colab": {
          "base_uri": "https://localhost:8080/"
        },
        "id": "1Ed228OoWQ4j",
        "outputId": "889aa157-d0a1-4ec0-b7ff-37decb6e2771"
      },
      "execution_count": null,
      "outputs": [
        {
          "output_type": "execute_result",
          "data": {
            "text/plain": [
              "(array([[[ 0,  1,  2,  3],\n",
              "         [ 4,  5,  6,  7],\n",
              "         [ 8,  9, 10, 11]],\n",
              " \n",
              "        [[12, 13, 14, 15],\n",
              "         [16, 17, 18, 19],\n",
              "         [20, 21, 22, 23]]]),\n",
              " 3,\n",
              " (2, 3, 4))"
            ]
          },
          "metadata": {},
          "execution_count": 21
        }
      ]
    },
    {
      "cell_type": "code",
      "source": [
        "#@title 배열 복사\n",
        "v = t.view()\n",
        "c = t.copy()\n",
        "t[0][0] = 100\n",
        "t, v, c"
      ],
      "metadata": {
        "colab": {
          "base_uri": "https://localhost:8080/"
        },
        "id": "mAhP-NeMWmQk",
        "outputId": "a3ab5582-5d00-4356-8153-19d4b8c99614"
      },
      "execution_count": null,
      "outputs": [
        {
          "output_type": "execute_result",
          "data": {
            "text/plain": [
              "(array([[[100, 100, 100, 100],\n",
              "         [  4,   5,   6,   7],\n",
              "         [  8,   9,  10,  11]],\n",
              " \n",
              "        [[ 12,  13,  14,  15],\n",
              "         [ 16,  17,  18,  19],\n",
              "         [ 20,  21,  22,  23]]]),\n",
              " array([[[100, 100, 100, 100],\n",
              "         [  4,   5,   6,   7],\n",
              "         [  8,   9,  10,  11]],\n",
              " \n",
              "        [[ 12,  13,  14,  15],\n",
              "         [ 16,  17,  18,  19],\n",
              "         [ 20,  21,  22,  23]]]),\n",
              " array([[[ 0,  1,  2,  3],\n",
              "         [ 4,  5,  6,  7],\n",
              "         [ 8,  9, 10, 11]],\n",
              " \n",
              "        [[12, 13, 14, 15],\n",
              "         [16, 17, 18, 19],\n",
              "         [20, 21, 22, 23]]]))"
            ]
          },
          "metadata": {},
          "execution_count": 22
        }
      ]
    },
    {
      "cell_type": "code",
      "source": [
        "#@title 배열의 인덱싱\n",
        "# 일차원 배열 = 리스트의 인덱싱\n",
        "a = np.arange(5)\n",
        "print(a)\n",
        "a[0], a[-1]"
      ],
      "metadata": {
        "colab": {
          "base_uri": "https://localhost:8080/"
        },
        "id": "DwSVfHPsXIA7",
        "outputId": "1daa88d6-8e39-40a2-fead-b8f2f04c00a2"
      },
      "execution_count": null,
      "outputs": [
        {
          "output_type": "stream",
          "name": "stdout",
          "text": [
            "[0 1 2 3 4]\n"
          ]
        },
        {
          "output_type": "execute_result",
          "data": {
            "text/plain": [
              "(0, 4)"
            ]
          },
          "metadata": {},
          "execution_count": 24
        }
      ]
    },
    {
      "cell_type": "code",
      "source": [
        "# 다차원 배열 -> [] -> ,를 통해서 축을 구분\n",
        "b = np.arange(6).reshape(2, -1)\n",
        "b, b.ndim, b.shape"
      ],
      "metadata": {
        "colab": {
          "base_uri": "https://localhost:8080/"
        },
        "id": "9tPZaLscXsQL",
        "outputId": "c1716494-1449-4365-cd44-2c46a141cf07"
      },
      "execution_count": null,
      "outputs": [
        {
          "output_type": "execute_result",
          "data": {
            "text/plain": [
              "(array([[0, 1, 2],\n",
              "        [3, 4, 5]]),\n",
              " 2,\n",
              " (2, 3))"
            ]
          },
          "metadata": {},
          "execution_count": 26
        }
      ]
    },
    {
      "cell_type": "code",
      "source": [
        "b[0, 0]"
      ],
      "metadata": {
        "colab": {
          "base_uri": "https://localhost:8080/"
        },
        "id": "06vCd-zOX8yK",
        "outputId": "6b6ae3b2-0074-4f52-b4a4-aa18b5378478"
      },
      "execution_count": null,
      "outputs": [
        {
          "output_type": "execute_result",
          "data": {
            "text/plain": [
              "0"
            ]
          },
          "metadata": {},
          "execution_count": 27
        }
      ]
    },
    {
      "cell_type": "code",
      "source": [
        "b[0, 0] = 200\n",
        "b"
      ],
      "metadata": {
        "colab": {
          "base_uri": "https://localhost:8080/"
        },
        "id": "paWkVRYLYEEq",
        "outputId": "3d7fd896-1c1d-4bf4-a0c3-5b5c0bd52d1e"
      },
      "execution_count": null,
      "outputs": [
        {
          "output_type": "execute_result",
          "data": {
            "text/plain": [
              "array([[200,   1,   2],\n",
              "       [  3,   4,   5]])"
            ]
          },
          "metadata": {},
          "execution_count": 28
        }
      ]
    },
    {
      "cell_type": "code",
      "source": [
        "#@title 배열 슬라이싱\n",
        "# 다차원 배열 슬라이싱 -> 파이썬 슬라이싱 + 축(axis) ,를 같이 쓰면 된다\n",
        "a = np.arange(8).reshape(2, -1)\n",
        "a"
      ],
      "metadata": {
        "colab": {
          "base_uri": "https://localhost:8080/"
        },
        "id": "1WS_R-DbYJDb",
        "outputId": "5489ad43-3c25-4681-d9a9-565ce0cafdf2"
      },
      "execution_count": null,
      "outputs": [
        {
          "output_type": "execute_result",
          "data": {
            "text/plain": [
              "array([[0, 1, 2, 3],\n",
              "       [4, 5, 6, 7]])"
            ]
          },
          "metadata": {},
          "execution_count": 29
        }
      ]
    },
    {
      "cell_type": "code",
      "source": [
        "a[0], a[0, :]"
      ],
      "metadata": {
        "colab": {
          "base_uri": "https://localhost:8080/"
        },
        "id": "Hh_mwggGYYOL",
        "outputId": "1fa76f3e-8b8f-49c7-c5a2-135a58988ee9"
      },
      "execution_count": null,
      "outputs": [
        {
          "output_type": "execute_result",
          "data": {
            "text/plain": [
              "(array([0, 1, 2, 3]), array([0, 1, 2, 3]))"
            ]
          },
          "metadata": {},
          "execution_count": 32
        }
      ]
    },
    {
      "cell_type": "code",
      "source": [
        "a[:, 1]"
      ],
      "metadata": {
        "colab": {
          "base_uri": "https://localhost:8080/"
        },
        "id": "ZhrdoFwUYid0",
        "outputId": "24be9753-469b-46a1-d9a8-5afca4ed7c8e"
      },
      "execution_count": null,
      "outputs": [
        {
          "output_type": "execute_result",
          "data": {
            "text/plain": [
              "array([1, 5])"
            ]
          },
          "metadata": {},
          "execution_count": 33
        }
      ]
    },
    {
      "cell_type": "code",
      "source": [
        "a[1, 1:]"
      ],
      "metadata": {
        "colab": {
          "base_uri": "https://localhost:8080/"
        },
        "id": "z7fpdlAmYksz",
        "outputId": "a58db28a-ef21-42dd-97af-41f1c497c678"
      },
      "execution_count": null,
      "outputs": [
        {
          "output_type": "execute_result",
          "data": {
            "text/plain": [
              "array([5, 6, 7])"
            ]
          },
          "metadata": {},
          "execution_count": 34
        }
      ]
    },
    {
      "cell_type": "code",
      "source": [
        "a[1:3, 0:2]"
      ],
      "metadata": {
        "colab": {
          "base_uri": "https://localhost:8080/"
        },
        "id": "r77gyrqFYntU",
        "outputId": "4d337ac2-10b2-492c-8150-38d95da5a9dd"
      },
      "execution_count": null,
      "outputs": [
        {
          "output_type": "execute_result",
          "data": {
            "text/plain": [
              "array([[4, 5]])"
            ]
          },
          "metadata": {},
          "execution_count": 35
        }
      ]
    },
    {
      "cell_type": "code",
      "source": [
        "#@title 배열 인덱싱 (불리언 배열, 정수 배열)\n",
        "# 불리언 배열\n",
        "a1 = np.arange(1, 10, 2)\n",
        "a2 = np.arange(1, 10)\n",
        "a1, a2[a2 % 2 != 0], a2[::2]"
      ],
      "metadata": {
        "colab": {
          "base_uri": "https://localhost:8080/"
        },
        "id": "kFyFPxUGYrqr",
        "outputId": "376fec54-fa30-474e-e777-ed77c469a3e7"
      },
      "execution_count": null,
      "outputs": [
        {
          "output_type": "execute_result",
          "data": {
            "text/plain": [
              "(array([1, 3, 5, 7, 9]), array([1, 3, 5, 7, 9]), array([1, 3, 5, 7, 9]))"
            ]
          },
          "metadata": {},
          "execution_count": 39
        }
      ]
    },
    {
      "cell_type": "code",
      "source": [
        "# 정수 배열\n",
        "idx = np.arange(0, 9, 3)\n",
        "idx, a2[idx]"
      ],
      "metadata": {
        "colab": {
          "base_uri": "https://localhost:8080/"
        },
        "id": "ruwsM2pwZLHr",
        "outputId": "2239cf6b-c2b6-4388-d83b-789d2ee060d7"
      },
      "execution_count": null,
      "outputs": [
        {
          "output_type": "execute_result",
          "data": {
            "text/plain": [
              "(array([0, 3, 6]), array([1, 4, 7]))"
            ]
          },
          "metadata": {},
          "execution_count": 40
        }
      ]
    },
    {
      "cell_type": "code",
      "source": [
        "import random\n",
        "\n",
        "r = random.choices(range(len(a2)), k=20)\n",
        "r, a2[r]"
      ],
      "metadata": {
        "colab": {
          "base_uri": "https://localhost:8080/"
        },
        "id": "zZI6Onq2ZeLB",
        "outputId": "ed5edff7-397e-48d6-a27c-1ada3fd6f764"
      },
      "execution_count": null,
      "outputs": [
        {
          "output_type": "execute_result",
          "data": {
            "text/plain": [
              "([8, 8, 3, 0, 4, 0, 3, 0, 6, 6, 3, 3, 7, 4, 5, 7, 8, 8, 2, 7],\n",
              " array([9, 9, 4, 1, 5, 1, 4, 1, 7, 7, 4, 4, 8, 5, 6, 8, 9, 9, 3, 8]))"
            ]
          },
          "metadata": {},
          "execution_count": 42
        }
      ]
    },
    {
      "cell_type": "code",
      "source": [
        "#@title 다차원 배열에서의 배열 인덱싱\n",
        "a = np.arange(1, 13).reshape(3, -1)\n",
        "a, a.ndim, a.shape"
      ],
      "metadata": {
        "colab": {
          "base_uri": "https://localhost:8080/"
        },
        "id": "Lw7t-DWdZxBj",
        "outputId": "0a2f016c-d464-4781-d1a4-7d4083f72117"
      },
      "execution_count": null,
      "outputs": [
        {
          "output_type": "execute_result",
          "data": {
            "text/plain": [
              "(array([[ 1,  2,  3,  4],\n",
              "        [ 5,  6,  7,  8],\n",
              "        [ 9, 10, 11, 12]]),\n",
              " 2,\n",
              " (3, 4))"
            ]
          },
          "metadata": {},
          "execution_count": 45
        }
      ]
    },
    {
      "cell_type": "code",
      "source": [
        "a[:, [0, 3]]"
      ],
      "metadata": {
        "colab": {
          "base_uri": "https://localhost:8080/"
        },
        "id": "GhmRGSMSaCRM",
        "outputId": "03848de1-b620-416a-ab95-e26f54e02c81"
      },
      "execution_count": null,
      "outputs": [
        {
          "output_type": "execute_result",
          "data": {
            "text/plain": [
              "array([[ 1,  4],\n",
              "       [ 5,  8],\n",
              "       [ 9, 12]])"
            ]
          },
          "metadata": {},
          "execution_count": 46
        }
      ]
    },
    {
      "cell_type": "code",
      "source": [
        "a[:, [3, 0]]"
      ],
      "metadata": {
        "colab": {
          "base_uri": "https://localhost:8080/"
        },
        "id": "L-2Wt2r1aLiD",
        "outputId": "9bf2bdcf-dcbc-4fb4-b009-d4470238d412"
      },
      "execution_count": null,
      "outputs": [
        {
          "output_type": "execute_result",
          "data": {
            "text/plain": [
              "array([[ 4,  1],\n",
              "       [ 8,  5],\n",
              "       [12,  9]])"
            ]
          },
          "metadata": {},
          "execution_count": 47
        }
      ]
    },
    {
      "cell_type": "code",
      "source": [
        "a[::-1, [3, 0]]"
      ],
      "metadata": {
        "colab": {
          "base_uri": "https://localhost:8080/"
        },
        "id": "j0kzgy90aORU",
        "outputId": "a2ddb8d8-8470-45bb-d410-162740f935eb"
      },
      "execution_count": null,
      "outputs": [
        {
          "output_type": "execute_result",
          "data": {
            "text/plain": [
              "array([[12,  9],\n",
              "       [ 8,  5],\n",
              "       [ 4,  1]])"
            ]
          },
          "metadata": {},
          "execution_count": 48
        }
      ]
    },
    {
      "cell_type": "code",
      "source": [
        "a[:, [True, True, False, False]]"
      ],
      "metadata": {
        "colab": {
          "base_uri": "https://localhost:8080/"
        },
        "id": "duSu9xYgaQzD",
        "outputId": "7386edf4-a7b9-426b-fba3-430f66200747"
      },
      "execution_count": null,
      "outputs": [
        {
          "output_type": "execute_result",
          "data": {
            "text/plain": [
              "array([[ 1,  2],\n",
              "       [ 5,  6],\n",
              "       [ 9, 10]])"
            ]
          },
          "metadata": {},
          "execution_count": 49
        }
      ]
    },
    {
      "cell_type": "code",
      "source": [
        "a[[2, 0, 1], :]"
      ],
      "metadata": {
        "colab": {
          "base_uri": "https://localhost:8080/"
        },
        "id": "82QNbjWsaahk",
        "outputId": "e089142b-4fbb-49dc-e110-1aee73704314"
      },
      "execution_count": null,
      "outputs": [
        {
          "output_type": "execute_result",
          "data": {
            "text/plain": [
              "array([[ 9, 10, 11, 12],\n",
              "       [ 1,  2,  3,  4],\n",
              "       [ 5,  6,  7,  8]])"
            ]
          },
          "metadata": {},
          "execution_count": 50
        }
      ]
    },
    {
      "cell_type": "code",
      "source": [
        "np.where(a % 2 == 0)  # 다차원 배열 -> 행별로 인덱스"
      ],
      "metadata": {
        "colab": {
          "base_uri": "https://localhost:8080/"
        },
        "id": "K1DtJ5uaaed9",
        "outputId": "919cd399-f837-43cc-e9d3-b9395272b832"
      },
      "execution_count": null,
      "outputs": [
        {
          "output_type": "execute_result",
          "data": {
            "text/plain": [
              "(array([0, 0, 1, 1, 2, 2]), array([1, 3, 1, 3, 1, 3]))"
            ]
          },
          "metadata": {},
          "execution_count": 51
        }
      ]
    },
    {
      "cell_type": "code",
      "source": [
        "arr = np.arange(1, 9)\n",
        "np.where(arr % 2 == 0)"
      ],
      "metadata": {
        "colab": {
          "base_uri": "https://localhost:8080/"
        },
        "id": "qSG06eqFaoOa",
        "outputId": "3319a86c-5b6a-4bd2-d588-aa8bce966f08"
      },
      "execution_count": null,
      "outputs": [
        {
          "output_type": "execute_result",
          "data": {
            "text/plain": [
              "(array([1, 3, 5, 7]),)"
            ]
          },
          "metadata": {},
          "execution_count": 52
        }
      ]
    },
    {
      "cell_type": "markdown",
      "source": [
        "# 배열의 생성과 변형"
      ],
      "metadata": {
        "id": "2OZ9P843a3GM"
      }
    },
    {
      "cell_type": "code",
      "source": [
        "x = np.arange(1, 4)\n",
        "x, x.ndim, x.shape, x.dtype"
      ],
      "metadata": {
        "colab": {
          "base_uri": "https://localhost:8080/"
        },
        "id": "qDKCvoTRbKND",
        "outputId": "bcdda252-e3ae-4b40-e02e-b23feaa5bbff"
      },
      "execution_count": null,
      "outputs": [
        {
          "output_type": "execute_result",
          "data": {
            "text/plain": [
              "(array([1, 2, 3]), 1, (3,), dtype('int64'))"
            ]
          },
          "metadata": {},
          "execution_count": 57
        }
      ]
    },
    {
      "cell_type": "code",
      "source": [
        "x = np.arange(1.0, 4.0)\n",
        "x, x.ndim, x.shape, x.dtype"
      ],
      "metadata": {
        "colab": {
          "base_uri": "https://localhost:8080/"
        },
        "id": "Dy7DhnIqbXJz",
        "outputId": "c0a3c74d-a004-4fb4-a37f-1cb0d77a95d2"
      },
      "execution_count": null,
      "outputs": [
        {
          "output_type": "execute_result",
          "data": {
            "text/plain": [
              "(array([1., 2., 3.]), 1, (3,), dtype('float64'))"
            ]
          },
          "metadata": {},
          "execution_count": 59
        }
      ]
    },
    {
      "cell_type": "code",
      "source": [
        "x = np.arange(1.0, 4)\n",
        "x, x.ndim, x.shape, x.dtype"
      ],
      "metadata": {
        "colab": {
          "base_uri": "https://localhost:8080/"
        },
        "id": "dic-dGflbbdN",
        "outputId": "323ae875-9a81-4850-8c54-a1c0f779e3bc"
      },
      "execution_count": null,
      "outputs": [
        {
          "output_type": "execute_result",
          "data": {
            "text/plain": [
              "(array([1., 2., 3.]), 1, (3,), dtype('float64'))"
            ]
          },
          "metadata": {},
          "execution_count": 60
        }
      ]
    },
    {
      "cell_type": "markdown",
      "source": [
        "* https://www.datacamp.com/cheat-sheet/numpy-cheat-sheet-data-analysis-in-python\n",
        "* https://sharegpt.com/c/YeSV33B"
      ],
      "metadata": {
        "id": "PrXad-F9boxz"
      }
    },
    {
      "cell_type": "code",
      "source": [
        "x = np.arange(1, 4, dtype='f')\n",
        "x, x.ndim, x.shape, x.dtype"
      ],
      "metadata": {
        "colab": {
          "base_uri": "https://localhost:8080/"
        },
        "id": "n7O0wctlbdgz",
        "outputId": "d166b1a7-ebc8-4abc-f316-2d65733d7885"
      },
      "execution_count": null,
      "outputs": [
        {
          "output_type": "execute_result",
          "data": {
            "text/plain": [
              "(array([1., 2., 3.], dtype=float32), 1, (3,), dtype('float32'))"
            ]
          },
          "metadata": {},
          "execution_count": 61
        }
      ]
    },
    {
      "cell_type": "code",
      "source": [
        "np.inf  # 1/0 같은 무한대가 나오는 상황... (에러 안 나고...)"
      ],
      "metadata": {
        "colab": {
          "base_uri": "https://localhost:8080/"
        },
        "id": "h1kqRwoGclDD",
        "outputId": "1e7f3f14-589f-4595-9ad4-c721cc408bd1"
      },
      "execution_count": null,
      "outputs": [
        {
          "output_type": "execute_result",
          "data": {
            "text/plain": [
              "inf"
            ]
          },
          "metadata": {},
          "execution_count": 62
        }
      ]
    },
    {
      "cell_type": "code",
      "source": [
        "np.nan  # 0/0 나누던가, nan(null)이 낀 연산 -> 값이 나올 수 없는 연산"
      ],
      "metadata": {
        "colab": {
          "base_uri": "https://localhost:8080/"
        },
        "id": "Mbx3_lcfcugz",
        "outputId": "6d3d27f6-a5fd-4998-9fe0-f4e434806abd"
      },
      "execution_count": null,
      "outputs": [
        {
          "output_type": "execute_result",
          "data": {
            "text/plain": [
              "nan"
            ]
          },
          "metadata": {},
          "execution_count": 63
        }
      ]
    },
    {
      "cell_type": "code",
      "source": [
        "#@title 배열 생성\n",
        "np.zeros(5)"
      ],
      "metadata": {
        "colab": {
          "base_uri": "https://localhost:8080/"
        },
        "id": "94wtp_Uhcvb7",
        "outputId": "a26e27e3-647b-41fc-acb7-12dae0d857fb"
      },
      "execution_count": null,
      "outputs": [
        {
          "output_type": "execute_result",
          "data": {
            "text/plain": [
              "array([0., 0., 0., 0., 0.])"
            ]
          },
          "metadata": {},
          "execution_count": 64
        }
      ]
    },
    {
      "cell_type": "code",
      "source": [
        "x = np.zeros((3, 5, 1))\n",
        "x"
      ],
      "metadata": {
        "colab": {
          "base_uri": "https://localhost:8080/"
        },
        "id": "twfm0shmc_Hc",
        "outputId": "d68b636c-81b3-417f-de28-5842cc681998"
      },
      "execution_count": null,
      "outputs": [
        {
          "output_type": "execute_result",
          "data": {
            "text/plain": [
              "array([[[0.],\n",
              "        [0.],\n",
              "        [0.],\n",
              "        [0.],\n",
              "        [0.]],\n",
              "\n",
              "       [[0.],\n",
              "        [0.],\n",
              "        [0.],\n",
              "        [0.],\n",
              "        [0.]],\n",
              "\n",
              "       [[0.],\n",
              "        [0.],\n",
              "        [0.],\n",
              "        [0.],\n",
              "        [0.]]])"
            ]
          },
          "metadata": {},
          "execution_count": 66
        }
      ]
    },
    {
      "cell_type": "code",
      "source": [
        "np.zeros_like(x)"
      ],
      "metadata": {
        "colab": {
          "base_uri": "https://localhost:8080/"
        },
        "id": "fZv2cmAvdBo7",
        "outputId": "0e42a222-1f19-4f58-ba8a-96e1f3093dfd"
      },
      "execution_count": null,
      "outputs": [
        {
          "output_type": "execute_result",
          "data": {
            "text/plain": [
              "array([[[0.],\n",
              "        [0.],\n",
              "        [0.],\n",
              "        [0.],\n",
              "        [0.]],\n",
              "\n",
              "       [[0.],\n",
              "        [0.],\n",
              "        [0.],\n",
              "        [0.],\n",
              "        [0.]],\n",
              "\n",
              "       [[0.],\n",
              "        [0.],\n",
              "        [0.],\n",
              "        [0.],\n",
              "        [0.]]])"
            ]
          },
          "metadata": {},
          "execution_count": 67
        }
      ]
    },
    {
      "cell_type": "code",
      "source": [
        "np.ones(5)"
      ],
      "metadata": {
        "colab": {
          "base_uri": "https://localhost:8080/"
        },
        "id": "cs0Bh4O7dH6z",
        "outputId": "d9a89b3a-5b25-4855-b9c6-07f5db07058a"
      },
      "execution_count": null,
      "outputs": [
        {
          "output_type": "execute_result",
          "data": {
            "text/plain": [
              "array([1., 1., 1., 1., 1.])"
            ]
          },
          "metadata": {},
          "execution_count": 68
        }
      ]
    },
    {
      "cell_type": "code",
      "source": [
        "np.ones((3, 2, 5))  # 모양 -> 리스트, 튜플."
      ],
      "metadata": {
        "colab": {
          "base_uri": "https://localhost:8080/"
        },
        "id": "Ek03wofsdJBT",
        "outputId": "0f38ac74-c3a0-43c3-9468-b408ebc1c2ad"
      },
      "execution_count": null,
      "outputs": [
        {
          "output_type": "execute_result",
          "data": {
            "text/plain": [
              "array([[[1., 1., 1., 1., 1.],\n",
              "        [1., 1., 1., 1., 1.]],\n",
              "\n",
              "       [[1., 1., 1., 1., 1.],\n",
              "        [1., 1., 1., 1., 1.]],\n",
              "\n",
              "       [[1., 1., 1., 1., 1.],\n",
              "        [1., 1., 1., 1., 1.]]])"
            ]
          },
          "metadata": {},
          "execution_count": 70
        }
      ]
    },
    {
      "cell_type": "code",
      "source": [
        "np.ones_like(x)"
      ],
      "metadata": {
        "colab": {
          "base_uri": "https://localhost:8080/"
        },
        "id": "_OuDvuQ-dKrC",
        "outputId": "221da638-474e-46ee-bb17-1b592beacb83"
      },
      "execution_count": null,
      "outputs": [
        {
          "output_type": "execute_result",
          "data": {
            "text/plain": [
              "array([[[1.],\n",
              "        [1.],\n",
              "        [1.],\n",
              "        [1.],\n",
              "        [1.]],\n",
              "\n",
              "       [[1.],\n",
              "        [1.],\n",
              "        [1.],\n",
              "        [1.],\n",
              "        [1.]],\n",
              "\n",
              "       [[1.],\n",
              "        [1.],\n",
              "        [1.],\n",
              "        [1.],\n",
              "        [1.]]])"
            ]
          },
          "metadata": {},
          "execution_count": 71
        }
      ]
    },
    {
      "cell_type": "code",
      "source": [
        "np.empty(5)  # 값이 뭐가 나올지 몰라..."
      ],
      "metadata": {
        "colab": {
          "base_uri": "https://localhost:8080/"
        },
        "id": "ZF8weca_dQMT",
        "outputId": "5efb73fd-e1f2-4cb0-8f0a-9ba3233025d6"
      },
      "execution_count": null,
      "outputs": [
        {
          "output_type": "execute_result",
          "data": {
            "text/plain": [
              "array([1., 1., 1., 1., 1.])"
            ]
          },
          "metadata": {},
          "execution_count": 72
        }
      ]
    },
    {
      "cell_type": "code",
      "source": [
        "np.linspace(1, 10, 5) # 선형적으로 균등분배된 구간 (선형구간)"
      ],
      "metadata": {
        "colab": {
          "base_uri": "https://localhost:8080/"
        },
        "id": "Dm0xb9NJdW7a",
        "outputId": "6b6a9d6d-ac0d-45dd-bce7-63470b57d6b9"
      },
      "execution_count": null,
      "outputs": [
        {
          "output_type": "execute_result",
          "data": {
            "text/plain": [
              "array([ 1.  ,  3.25,  5.5 ,  7.75, 10.  ])"
            ]
          },
          "metadata": {},
          "execution_count": 73
        }
      ]
    },
    {
      "cell_type": "code",
      "source": [
        "np.logspace(0.1, 10, 5)"
      ],
      "metadata": {
        "colab": {
          "base_uri": "https://localhost:8080/"
        },
        "id": "2o4YOfbDdefj",
        "outputId": "5fd2ec71-6ccd-4165-9414-87014a322065"
      },
      "execution_count": null,
      "outputs": [
        {
          "output_type": "execute_result",
          "data": {
            "text/plain": [
              "array([1.25892541e+00, 3.75837404e+02, 1.12201845e+05, 3.34965439e+07,\n",
              "       1.00000000e+10])"
            ]
          },
          "metadata": {},
          "execution_count": 74
        }
      ]
    },
    {
      "cell_type": "code",
      "source": [
        "A = np.arange(1, 7).reshape(2, -1)\n",
        "A"
      ],
      "metadata": {
        "colab": {
          "base_uri": "https://localhost:8080/"
        },
        "id": "qyNQfDyHdohr",
        "outputId": "f51f5238-bd12-449e-8dfc-f035be94f012"
      },
      "execution_count": null,
      "outputs": [
        {
          "output_type": "execute_result",
          "data": {
            "text/plain": [
              "array([[1, 2, 3],\n",
              "       [4, 5, 6]])"
            ]
          },
          "metadata": {},
          "execution_count": 75
        }
      ]
    },
    {
      "cell_type": "code",
      "source": [
        "A.T"
      ],
      "metadata": {
        "colab": {
          "base_uri": "https://localhost:8080/"
        },
        "id": "ASH8eNgFduTD",
        "outputId": "e997fef1-3154-4a3b-e11d-02d34371ff82"
      },
      "execution_count": null,
      "outputs": [
        {
          "output_type": "execute_result",
          "data": {
            "text/plain": [
              "array([[1, 4],\n",
              "       [2, 5],\n",
              "       [3, 6]])"
            ]
          },
          "metadata": {},
          "execution_count": 76
        }
      ]
    },
    {
      "cell_type": "code",
      "source": [
        "A.reshape(-1)  # -1 => 전체 길이"
      ],
      "metadata": {
        "colab": {
          "base_uri": "https://localhost:8080/"
        },
        "id": "Ltt5N98sdwP0",
        "outputId": "ec150ab1-8c4a-4d05-b281-2915e501e87a"
      },
      "execution_count": null,
      "outputs": [
        {
          "output_type": "execute_result",
          "data": {
            "text/plain": [
              "array([1, 2, 3, 4, 5, 6])"
            ]
          },
          "metadata": {},
          "execution_count": 77
        }
      ]
    },
    {
      "cell_type": "code",
      "source": [
        "A, A.flatten(), A.ravel()"
      ],
      "metadata": {
        "colab": {
          "base_uri": "https://localhost:8080/"
        },
        "id": "sCYjOI5sd27E",
        "outputId": "62b36974-505d-41e8-dee7-beb74df9c364"
      },
      "execution_count": null,
      "outputs": [
        {
          "output_type": "execute_result",
          "data": {
            "text/plain": [
              "(array([[1, 2, 3],\n",
              "        [4, 5, 6]]),\n",
              " array([1, 2, 3, 4, 5, 6]),\n",
              " array([1, 2, 3, 4, 5, 6]))"
            ]
          },
          "metadata": {},
          "execution_count": 80
        }
      ]
    },
    {
      "cell_type": "code",
      "source": [
        "x = np.arange(5)\n",
        "x, x.shape"
      ],
      "metadata": {
        "colab": {
          "base_uri": "https://localhost:8080/"
        },
        "id": "Z0lM1ktSd6sT",
        "outputId": "e879f81a-8820-4b6a-aa1e-cd505d60d989"
      },
      "execution_count": null,
      "outputs": [
        {
          "output_type": "execute_result",
          "data": {
            "text/plain": [
              "(array([0, 1, 2, 3, 4]), (5,))"
            ]
          },
          "metadata": {},
          "execution_count": 83
        }
      ]
    },
    {
      "cell_type": "code",
      "source": [
        "x[:, np.newaxis], x[:, np.newaxis].shape"
      ],
      "metadata": {
        "colab": {
          "base_uri": "https://localhost:8080/"
        },
        "id": "EV2Lt0moeE68",
        "outputId": "af40dfeb-c918-4d3f-8772-aac83951d47f"
      },
      "execution_count": null,
      "outputs": [
        {
          "output_type": "execute_result",
          "data": {
            "text/plain": [
              "(array([[0],\n",
              "        [1],\n",
              "        [2],\n",
              "        [3],\n",
              "        [4]]),\n",
              " (5, 1))"
            ]
          },
          "metadata": {},
          "execution_count": 84
        }
      ]
    },
    {
      "cell_type": "code",
      "source": [
        "x[np.newaxis, :], x[np.newaxis, :].shape"
      ],
      "metadata": {
        "colab": {
          "base_uri": "https://localhost:8080/"
        },
        "id": "N7TkGCPXeHGj",
        "outputId": "0c3cb941-014e-4a91-b750-315b0bbf679f"
      },
      "execution_count": null,
      "outputs": [
        {
          "output_type": "execute_result",
          "data": {
            "text/plain": [
              "(array([[0, 1, 2, 3, 4]]), (1, 5))"
            ]
          },
          "metadata": {},
          "execution_count": 85
        }
      ]
    },
    {
      "cell_type": "code",
      "source": [
        "#@title 배열 연결\n",
        "a = np.arange(1, 4)\n",
        "b = np.arange(10, 13)\n",
        "a, b"
      ],
      "metadata": {
        "colab": {
          "base_uri": "https://localhost:8080/"
        },
        "id": "jmeeVnN-eSR7",
        "outputId": "14e7dbbc-402e-4975-e95c-5f2e00beb322"
      },
      "execution_count": null,
      "outputs": [
        {
          "output_type": "execute_result",
          "data": {
            "text/plain": [
              "(array([1, 2, 3]), array([10, 11, 12]))"
            ]
          },
          "metadata": {},
          "execution_count": 86
        }
      ]
    },
    {
      "cell_type": "code",
      "source": [
        "np.concatenate((a, b)) # axis=0"
      ],
      "metadata": {
        "colab": {
          "base_uri": "https://localhost:8080/"
        },
        "id": "50texT7deZLM",
        "outputId": "a79e7f0e-662e-400c-a9e2-6ae01d96cf33"
      },
      "execution_count": null,
      "outputs": [
        {
          "output_type": "execute_result",
          "data": {
            "text/plain": [
              "array([ 1,  2,  3, 10, 11, 12])"
            ]
          },
          "metadata": {},
          "execution_count": 87
        }
      ]
    },
    {
      "cell_type": "code",
      "source": [
        "np.concatenate((a, b), axis=0)\n",
        "# np.concatenate((a, b), axis=1) <- 1차원"
      ],
      "metadata": {
        "colab": {
          "base_uri": "https://localhost:8080/"
        },
        "id": "W0_NRXSCegMV",
        "outputId": "c5478a7b-a796-431b-84bb-939af7bbeb09"
      },
      "execution_count": null,
      "outputs": [
        {
          "output_type": "execute_result",
          "data": {
            "text/plain": [
              "array([ 1,  2,  3, 10, 11, 12])"
            ]
          },
          "metadata": {},
          "execution_count": 90
        }
      ]
    },
    {
      "cell_type": "code",
      "source": [
        "# hstack\n",
        "a = np.ones((2, 3))\n",
        "b = np.zeros_like(a)\n",
        "a, b, np.hstack((a, b)), np.hstack((a, b)).shape, np.concatenate((a, b), axis=1)"
      ],
      "metadata": {
        "colab": {
          "base_uri": "https://localhost:8080/"
        },
        "id": "dBW5O4huej67",
        "outputId": "b706f069-3af4-49fc-cd0f-7cafb09fff67"
      },
      "execution_count": null,
      "outputs": [
        {
          "output_type": "execute_result",
          "data": {
            "text/plain": [
              "(array([[1., 1., 1.],\n",
              "        [1., 1., 1.]]),\n",
              " array([[0., 0., 0.],\n",
              "        [0., 0., 0.]]),\n",
              " array([[1., 1., 1., 0., 0., 0.],\n",
              "        [1., 1., 1., 0., 0., 0.]]),\n",
              " (2, 6),\n",
              " array([[1., 1., 1., 0., 0., 0.],\n",
              "        [1., 1., 1., 0., 0., 0.]]))"
            ]
          },
          "metadata": {},
          "execution_count": 95
        }
      ]
    },
    {
      "cell_type": "code",
      "source": [
        "# vstack\n",
        "a = np.ones((2, 3))\n",
        "b = np.zeros_like(a)\n",
        "a, b, np.vstack((a, b)), np.vstack((a, b)).shape, np.concatenate((a, b), axis=0)"
      ],
      "metadata": {
        "colab": {
          "base_uri": "https://localhost:8080/"
        },
        "id": "NcEF2WCkfBok",
        "outputId": "cf4fe337-4669-41dd-e39d-88aabbd06747"
      },
      "execution_count": null,
      "outputs": [
        {
          "output_type": "execute_result",
          "data": {
            "text/plain": [
              "(array([[1., 1., 1.],\n",
              "        [1., 1., 1.]]),\n",
              " array([[0., 0., 0.],\n",
              "        [0., 0., 0.]]),\n",
              " array([[1., 1., 1.],\n",
              "        [1., 1., 1.],\n",
              "        [0., 0., 0.],\n",
              "        [0., 0., 0.]]),\n",
              " (4, 3),\n",
              " array([[1., 1., 1.],\n",
              "        [1., 1., 1.],\n",
              "        [0., 0., 0.],\n",
              "        [0., 0., 0.]]))"
            ]
          },
          "metadata": {},
          "execution_count": 96
        }
      ]
    },
    {
      "cell_type": "code",
      "source": [
        "# dstack\n",
        "a = np.ones((2, 3))\n",
        "b = np.zeros_like(a)\n",
        "a, b, np.dstack((a, b)), np.dstack((a, b)).shape"
      ],
      "metadata": {
        "colab": {
          "base_uri": "https://localhost:8080/"
        },
        "id": "j9z-kkjvfLFD",
        "outputId": "8fb6906b-4abf-4d34-83cc-c2aee0b8bcd2"
      },
      "execution_count": null,
      "outputs": [
        {
          "output_type": "execute_result",
          "data": {
            "text/plain": [
              "(array([[1., 1., 1.],\n",
              "        [1., 1., 1.]]),\n",
              " array([[0., 0., 0.],\n",
              "        [0., 0., 0.]]),\n",
              " array([[[1., 0.],\n",
              "         [1., 0.],\n",
              "         [1., 0.]],\n",
              " \n",
              "        [[1., 0.],\n",
              "         [1., 0.],\n",
              "         [1., 0.]]]),\n",
              " (2, 3, 2))"
            ]
          },
          "metadata": {},
          "execution_count": 97
        }
      ]
    },
    {
      "cell_type": "code",
      "source": [
        "# stack\n",
        "a = np.ones((2, 3))\n",
        "b = np.zeros_like(a)\n",
        "a, b, np.stack((a, b)), np.stack((a, b)).shape  # axis=0"
      ],
      "metadata": {
        "colab": {
          "base_uri": "https://localhost:8080/"
        },
        "id": "NNPYajrvfYEB",
        "outputId": "aaf4f884-0077-44cf-9ba8-3b040d28a1bd"
      },
      "execution_count": null,
      "outputs": [
        {
          "output_type": "execute_result",
          "data": {
            "text/plain": [
              "(array([[1., 1., 1.],\n",
              "        [1., 1., 1.]]),\n",
              " array([[0., 0., 0.],\n",
              "        [0., 0., 0.]]),\n",
              " array([[[1., 1., 1.],\n",
              "         [1., 1., 1.]],\n",
              " \n",
              "        [[0., 0., 0.],\n",
              "         [0., 0., 0.]]]),\n",
              " (2, 2, 3))"
            ]
          },
          "metadata": {},
          "execution_count": 98
        }
      ]
    },
    {
      "cell_type": "code",
      "source": [
        "axis = 0\n",
        "np.stack((a, b), axis=axis), np.stack((a, b), axis=axis).shape  # axis=0"
      ],
      "metadata": {
        "colab": {
          "base_uri": "https://localhost:8080/"
        },
        "id": "0y5kfXtcfci7",
        "outputId": "54613dc4-b050-4efd-fa1d-87730f4b85bd"
      },
      "execution_count": null,
      "outputs": [
        {
          "output_type": "execute_result",
          "data": {
            "text/plain": [
              "(array([[[1., 1., 1.],\n",
              "         [1., 1., 1.]],\n",
              " \n",
              "        [[0., 0., 0.],\n",
              "         [0., 0., 0.]]]),\n",
              " (2, 2, 3))"
            ]
          },
          "metadata": {},
          "execution_count": 99
        }
      ]
    },
    {
      "cell_type": "code",
      "source": [
        "axis = 1\n",
        "np.stack((a, b), axis=axis), np.stack((a, b), axis=axis).shape  # axis=1"
      ],
      "metadata": {
        "colab": {
          "base_uri": "https://localhost:8080/"
        },
        "id": "S8OIEKKvficL",
        "outputId": "285f6f63-cbca-4b8a-c92d-c3a1a0d15e6b"
      },
      "execution_count": null,
      "outputs": [
        {
          "output_type": "execute_result",
          "data": {
            "text/plain": [
              "(array([[[1., 1., 1.],\n",
              "         [0., 0., 0.]],\n",
              " \n",
              "        [[1., 1., 1.],\n",
              "         [0., 0., 0.]]]),\n",
              " (2, 2, 3))"
            ]
          },
          "metadata": {},
          "execution_count": 100
        }
      ]
    },
    {
      "cell_type": "code",
      "source": [
        "axis = 2\n",
        "np.stack((a, b), axis=axis), np.stack((a, b), axis=axis).shape  # axis=2"
      ],
      "metadata": {
        "colab": {
          "base_uri": "https://localhost:8080/"
        },
        "id": "2Rztla8Yfj19",
        "outputId": "0181284b-46f5-44bf-9773-3f35cd383223"
      },
      "execution_count": null,
      "outputs": [
        {
          "output_type": "execute_result",
          "data": {
            "text/plain": [
              "(array([[[1., 0.],\n",
              "         [1., 0.],\n",
              "         [1., 0.]],\n",
              " \n",
              "        [[1., 0.],\n",
              "         [1., 0.],\n",
              "         [1., 0.]]]),\n",
              " (2, 3, 2))"
            ]
          },
          "metadata": {},
          "execution_count": 102
        }
      ]
    },
    {
      "cell_type": "code",
      "source": [
        "a = np.arange(1, 4)\n",
        "b = np.arange(4, 7)\n",
        "np.r_[a, b]"
      ],
      "metadata": {
        "colab": {
          "base_uri": "https://localhost:8080/"
        },
        "id": "Zg_njkxMfzfS",
        "outputId": "9a532744-75e1-46b3-b8f7-9174436ae29d"
      },
      "execution_count": null,
      "outputs": [
        {
          "output_type": "execute_result",
          "data": {
            "text/plain": [
              "array([1, 2, 3, 4, 5, 6])"
            ]
          },
          "metadata": {},
          "execution_count": 103
        }
      ]
    },
    {
      "cell_type": "code",
      "source": [
        "np.c_[a, b]"
      ],
      "metadata": {
        "colab": {
          "base_uri": "https://localhost:8080/"
        },
        "id": "VQbp68csf5GL",
        "outputId": "14160bc3-22f8-472f-9c64-b776974bc415"
      },
      "execution_count": null,
      "outputs": [
        {
          "output_type": "execute_result",
          "data": {
            "text/plain": [
              "array([[1, 4],\n",
              "       [2, 5],\n",
              "       [3, 6]])"
            ]
          },
          "metadata": {},
          "execution_count": 104
        }
      ]
    },
    {
      "cell_type": "code",
      "source": [
        "np.tile(a, 2)"
      ],
      "metadata": {
        "colab": {
          "base_uri": "https://localhost:8080/"
        },
        "id": "JhFV_LSLf9YZ",
        "outputId": "c070919d-5fdf-4cd4-e92e-2340f9479a41"
      },
      "execution_count": null,
      "outputs": [
        {
          "output_type": "execute_result",
          "data": {
            "text/plain": [
              "array([1, 2, 3, 1, 2, 3])"
            ]
          },
          "metadata": {},
          "execution_count": 105
        }
      ]
    },
    {
      "cell_type": "code",
      "source": [
        "np.tile(a, (2, 2))"
      ],
      "metadata": {
        "colab": {
          "base_uri": "https://localhost:8080/"
        },
        "id": "CIV27FQPf-4a",
        "outputId": "7b7c9ffe-da7c-4f5f-9b1f-7c6129937277"
      },
      "execution_count": null,
      "outputs": [
        {
          "output_type": "execute_result",
          "data": {
            "text/plain": [
              "array([[1, 2, 3, 1, 2, 3],\n",
              "       [1, 2, 3, 1, 2, 3]])"
            ]
          },
          "metadata": {},
          "execution_count": 107
        }
      ]
    },
    {
      "cell_type": "code",
      "source": [
        "c = np.tile(a, (2, 2))\n",
        "np.array_split(c, 2)"
      ],
      "metadata": {
        "colab": {
          "base_uri": "https://localhost:8080/"
        },
        "id": "_B6l5QWGgECd",
        "outputId": "fd3fd2a1-03c6-4bab-c3d0-d846d5deeaa1"
      },
      "execution_count": null,
      "outputs": [
        {
          "output_type": "execute_result",
          "data": {
            "text/plain": [
              "[array([[1, 2, 3, 1, 2, 3]]), array([[1, 2, 3, 1, 2, 3]])]"
            ]
          },
          "metadata": {},
          "execution_count": 108
        }
      ]
    },
    {
      "cell_type": "code",
      "source": [
        "np.split(c, 2)"
      ],
      "metadata": {
        "colab": {
          "base_uri": "https://localhost:8080/"
        },
        "id": "os86zkJzgG1b",
        "outputId": "09cd3ef0-254f-4b7e-8dae-d4fd87595686"
      },
      "execution_count": null,
      "outputs": [
        {
          "output_type": "execute_result",
          "data": {
            "text/plain": [
              "[array([[1, 2, 3, 1, 2, 3]]), array([[1, 2, 3, 1, 2, 3]])]"
            ]
          },
          "metadata": {},
          "execution_count": 109
        }
      ]
    },
    {
      "cell_type": "code",
      "source": [
        "np.array_split(c, 2, axis=0)"
      ],
      "metadata": {
        "id": "L-dEFRbJgJ-q",
        "outputId": "43843fb4-25c0-4764-b3f8-ca7f9003faee",
        "colab": {
          "base_uri": "https://localhost:8080/"
        }
      },
      "execution_count": null,
      "outputs": [
        {
          "output_type": "execute_result",
          "data": {
            "text/plain": [
              "[array([[1, 2, 3, 1, 2, 3]]), array([[1, 2, 3, 1, 2, 3]])]"
            ]
          },
          "metadata": {},
          "execution_count": 110
        }
      ]
    },
    {
      "cell_type": "code",
      "source": [
        "np.array_split(c, 2, axis=1)"
      ],
      "metadata": {
        "id": "234Gr7CrgNC0",
        "outputId": "796569b0-b3a0-4b57-e2ac-6cfa1ef6cc8b",
        "colab": {
          "base_uri": "https://localhost:8080/"
        }
      },
      "execution_count": null,
      "outputs": [
        {
          "output_type": "execute_result",
          "data": {
            "text/plain": [
              "[array([[1, 2, 3],\n",
              "        [1, 2, 3]]),\n",
              " array([[1, 2, 3],\n",
              "        [1, 2, 3]])]"
            ]
          },
          "metadata": {},
          "execution_count": 111
        }
      ]
    }
  ]
}